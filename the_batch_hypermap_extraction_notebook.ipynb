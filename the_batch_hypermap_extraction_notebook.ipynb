{
 "cells": [
  {
   "cell_type": "code",
   "execution_count": 1,
   "metadata": {
    "collapsed": false
   },
   "outputs": [],
   "source": [
    "%matplotlib qt"
   ]
  },
  {
   "cell_type": "code",
   "execution_count": 2,
   "metadata": {
    "collapsed": false
   },
   "outputs": [],
   "source": [
    "import hyperspy.api as hs\n",
    "from glob import glob \n",
    "from copy import copy \n",
    "import gc\n",
    "import os\n",
    "from tqdm import tqdm_notebook\n",
    "import png"
   ]
  },
  {
   "cell_type": "code",
   "execution_count": 3,
   "metadata": {
    "collapsed": false
   },
   "outputs": [],
   "source": [
    "def collective_max_pixel_spectrum(bcf_file_list, **kwargs):\n",
    "    \"\"\"calculate and return the max_pixel_spectrum for whole list of bcf files\"\"\"\n",
    "    eds_list = []\n",
    "    for i in tqdm_notebook(bcf_file_list):\n",
    "        #print(' '.join([str(bcfs.index(i)),'from',str(len(bcf_file_list))]))\n",
    "        EDS = hs.load(i, select_type='spectrum', **kwargs)\n",
    "        eds_list.append(copy(EDS.max()))\n",
    "        del EDS\n",
    "        gc.collect()\n",
    "    stacky = hs.stack(eds_list)\n",
    "    max_pixel_spectra = stacky.max(axis=0)\n",
    "    return max_pixel_spectra\n",
    "    "
   ]
  },
  {
   "cell_type": "code",
   "execution_count": 4,
   "metadata": {
    "collapsed": false
   },
   "outputs": [],
   "source": [
    "def png_exporter(bcf_file_list, line_list, dtype='uint8', save_electron_images=False,\n",
    "                integration_windows=1.5):\n",
    "    \"\"\"extract and save the images of electron images and selected x-ray lines to png files\n",
    "    arguments:\n",
    "    bcf_file_list : the python list with relative or absolute paths to bcf files\n",
    "    line_list - python list with x-ray element lines for extracting (n.p. 'Si_Ka')\n",
    "    dtype - by default uint8, use uint32 if it is intense\n",
    "    \"\"\"\n",
    "    for i in tqdm_notebook(bcf_file_list, desc='total bcf'):\n",
    "        # all signals\n",
    "        all_signals = hs.load(i)\n",
    "        basename = i.rsplit('.',1)[0]\n",
    "        if type(all_signals) == list:\n",
    "            if save_electron_images:\n",
    "                for k in all_signals[:-1]:\n",
    "                    signal_name = k.metadata.Signal.signal_type \n",
    "                    img = png.from_array(k.data, 'L')\n",
    "                    img.save('_'.join([basename, signal_name + '.png']))\n",
    "            el_maps = all_signals[-1].get_lines_intensity(xray_lines=line_list,\n",
    "                                                          integration_windows=integration_windows)\n",
    "        else:\n",
    "            el_maps = all_signals.get_lines_intensity(xray_lines=line_list,\n",
    "                                                   integration_windows=integration_windows)\n",
    "        for j in tqdm_notebook(range(len(line_list)), desc='elements_at_bcf', leave=False):\n",
    "            el_maps[j].change_dtype(dtype)\n",
    "            img = png.from_array(el_maps[j].data, 'L')  # 'L' bo szaro-bialy\n",
    "            img.save('_'.join([basename, line_list[j].replace('_','-') + '.png']))\n",
    "        del all_signals, img, el_maps\n",
    "        gc.collect()"
   ]
  },
  {
   "cell_type": "markdown",
   "metadata": {},
   "source": [
    "#### This is where customisation starts:"
   ]
  },
  {
   "cell_type": "code",
   "execution_count": 5,
   "metadata": {
    "collapsed": false
   },
   "outputs": [],
   "source": [
    "bcfs = glob('*.bcf')  # add path to your bcf files"
   ]
  },
  {
   "cell_type": "code",
   "execution_count": 6,
   "metadata": {
    "collapsed": false
   },
   "outputs": [
    {
     "data": {
      "text/plain": [
       "[]"
      ]
     },
     "execution_count": 6,
     "metadata": {},
     "output_type": "execute_result"
    }
   ],
   "source": [
    "bcfs[:5]  # check the list is not empty"
   ]
  },
  {
   "cell_type": "markdown",
   "metadata": {},
   "source": [
    "#### If we don't know what lines interest us or what to except in the sample, then we should do 'max pixel spectra' for whole set of data:"
   ]
  },
  {
   "cell_type": "code",
   "execution_count": 9,
   "metadata": {
    "collapsed": false,
    "scrolled": true
   },
   "outputs": [
    {
     "name": "stdout",
     "output_type": "stream",
     "text": [
      "\n"
     ]
    }
   ],
   "source": [
    "max_pixel_spectrum = collective_max_pixel_spectrum(bcfs, downsample=4,\n",
    "                                                   cutoff_at_kV=13)"
   ]
  },
  {
   "cell_type": "code",
   "execution_count": 36,
   "metadata": {
    "collapsed": false
   },
   "outputs": [
    {
     "data": {
      "text/plain": [
       "<EDSSEMSpectrum, title: Stack of EDX, dimensions: (|1347)>"
      ]
     },
     "execution_count": 36,
     "metadata": {},
     "output_type": "execute_result"
    }
   ],
   "source": [
    "max_pixel_spectrum"
   ]
  },
  {
   "cell_type": "code",
   "execution_count": 7,
   "metadata": {
    "collapsed": false
   },
   "outputs": [
    {
     "ename": "NameError",
     "evalue": "name 'max_pixel_spectrum' is not defined",
     "output_type": "error",
     "traceback": [
      "\u001b[0;31m---------------------------------------------------------------------------\u001b[0m",
      "\u001b[0;31mNameError\u001b[0m                                 Traceback (most recent call last)",
      "\u001b[0;32m<ipython-input-7-11be0cb5f276>\u001b[0m in \u001b[0;36m<module>\u001b[0;34m()\u001b[0m\n\u001b[0;32m----> 1\u001b[0;31m \u001b[0mmax_pixel_spectrum\u001b[0m\u001b[0;34m.\u001b[0m\u001b[0mplot\u001b[0m\u001b[0;34m(\u001b[0m\u001b[0;34m)\u001b[0m\u001b[0;34m\u001b[0m\u001b[0m\n\u001b[0m",
      "\u001b[0;31mNameError\u001b[0m: name 'max_pixel_spectrum' is not defined"
     ]
    }
   ],
   "source": [
    "max_pixel_spectrum.plot()"
   ]
  },
  {
   "cell_type": "code",
   "execution_count": null,
   "metadata": {
    "collapsed": false
   },
   "outputs": [],
   "source": []
  },
  {
   "cell_type": "code",
   "execution_count": 33,
   "metadata": {
    "collapsed": false
   },
   "outputs": [
    {
     "data": {
      "text/plain": [
       "25"
      ]
     },
     "execution_count": 33,
     "metadata": {},
     "output_type": "execute_result"
    }
   ],
   "source": [
    "#select or refine the lines until all major peaks in the max_pixel spectra are covered\n",
    "lines = ['C_Ka', 'O_Ka', 'F_Ka', 'Na_Ka', 'Mg_Ka',\n",
    "         'Al_Ka', 'Si_Ka', 'P_Ka', 'Zr_La', 'Nb_La',\n",
    "         'K_Ka', 'Ca_Ka', 'Ti_Ka', 'Cr_Ka','Fe_Ka',\n",
    "         'Ni_Ka', 'S_Ka', 'Cl_Ka', 'La_La', 'Ce_La',\n",
    "         'Nd_La','Cu_Ka', 'Zn_Ka', 'Au_La', 'Th_Ma']\n",
    "len(lines)"
   ]
  },
  {
   "cell_type": "code",
   "execution_count": 37,
   "metadata": {
    "collapsed": false
   },
   "outputs": [
    {
     "name": "stdout",
     "output_type": "stream",
     "text": [
      "CPU times: user 2min 5s, sys: 2.54 s, total: 2min 7s\n",
      "Wall time: 2min 5s\n"
     ]
    }
   ],
   "source": [
    "max_pixel_spectrum.plot(xray_lines=lines)"
   ]
  },
  {
   "cell_type": "code",
   "execution_count": 25,
   "metadata": {
    "collapsed": false,
    "scrolled": false
   },
   "outputs": [
    {
     "name": "stdout",
     "output_type": "stream",
     "text": [
      "\n"
     ]
    }
   ],
   "source": [
    "#lets save the pictures as png\n",
    "png_exporter(bcfs, lines, save_electron_images=True)"
   ]
  },
  {
   "cell_type": "code",
   "execution_count": null,
   "metadata": {
    "collapsed": true
   },
   "outputs": [],
   "source": []
  }
 ],
 "metadata": {
  "anaconda-cloud": {},
  "kernelspec": {
   "display_name": "Python 3",
   "language": "python",
   "name": "python3"
  },
  "language_info": {
   "codemirror_mode": {
    "name": "ipython",
    "version": 3
   },
   "file_extension": ".py",
   "mimetype": "text/x-python",
   "name": "python",
   "nbconvert_exporter": "python",
   "pygments_lexer": "ipython3",
   "version": "3.5.2+"
  },
  "widgets": {
   "state": {
    "5b45851ba5a34f9aaf366ff02f5ca090": {
     "views": [
      {
       "cell_index": 8
      }
     ]
    }
   },
   "version": "1.2.0"
  }
 },
 "nbformat": 4,
 "nbformat_minor": 1
}
